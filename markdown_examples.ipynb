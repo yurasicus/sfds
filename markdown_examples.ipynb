{
 "cells": [
  {
   "cell_type": "markdown",
   "metadata": {},
   "source": [
    "# Markdown examples:\n",
    "\n",
    "**bold**\n",
    "\n",
    "*italics*\n",
    "\n",
    "***bold italics***\n",
    "\n",
    "~~strikethrough~~\n",
    "\n",
    ">block\n",
    ">>nested block\n",
    ">>>more\n",
    "\n"
   ]
  },
  {
   "cell_type": "markdown",
   "metadata": {},
   "source": [
    "lines (3 ways to draw):\n",
    "***\n",
    "---\n",
    "___\n",
    "\n"
   ]
  },
  {
   "cell_type": "markdown",
   "metadata": {},
   "source": [
    "numeration:\n",
    "1. First\n",
    "2. Second\n",
    "3. Third\n"
   ]
  },
  {
   "cell_type": "markdown",
   "metadata": {},
   "source": [
    "bullets:\n",
    "- 1st\n",
    "- 2nd\n",
    "\n",
    "bullets (2nd way to draw):\n",
    "* 1st\n",
    "* 2nd"
   ]
  },
  {
   "cell_type": "markdown",
   "metadata": {},
   "source": [
    "## pictures\n",
    "need to drag-n-drop here\n",
    "\n",
    "but how ???\n",
    "\n",
    "or use code before link:\n",
    "\n",
    "![](https://www.python.org/static/img/python-logo@2x.png)"
   ]
  },
  {
   "cell_type": "markdown",
   "metadata": {},
   "source": [
    "## links\n",
    "\n",
    "[click me](https://en.wikipedia.org \"Wikipedia\")\n",
    "\n",
    "https://en.wikipedia.org\n",
    "\n",
    "> 2 spaces after link needed or links will be concatenated (!):\n",
    "https://en.wikipedia.org  \n",
    "https://en.wikipedia.org  \n",
    "https://en.wikipedia.org  \n",
    "https://en.wikipedia.org  \n"
   ]
  },
  {
   "cell_type": "markdown",
   "metadata": {},
   "source": [
    "## check-lists\n",
    "- [x] done\n",
    "- [ ] not yet\n",
    "\n",
    "(but it doesn't work)"
   ]
  },
  {
   "cell_type": "markdown",
   "metadata": {},
   "source": [
    "## to mark as code use 3 ` signs (inclined symbol!)\n",
    "```python\n",
    "\n",
    "s = \"Python syntax highlighting\"\n",
    "print s\n",
    "\n",
    "```"
   ]
  },
  {
   "cell_type": "markdown",
   "metadata": {},
   "source": [
    "## Nice tables\n",
    "|Column 1|Column 2|\n",
    "|-|-|\n",
    "|value 1|number|\n",
    "|-5|5|"
   ]
  },
  {
   "cell_type": "markdown",
   "metadata": {},
   "source": [
    "This string is <mark>highlighted</mark> by color.\n"
   ]
  },
  {
   "cell_type": "markdown",
   "metadata": {},
   "source": [
    "## Formulas (LateX formatting)\n",
    "\n",
    "$\\sqrt{k}$"
   ]
  }
 ],
 "metadata": {
  "language_info": {
   "name": "python"
  },
  "orig_nbformat": 4
 },
 "nbformat": 4,
 "nbformat_minor": 2
}
