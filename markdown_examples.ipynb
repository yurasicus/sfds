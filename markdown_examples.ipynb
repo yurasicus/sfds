{
 "cells": [
  {
   "attachments": {},
   "cell_type": "markdown",
   "metadata": {},
   "source": [
    "# Markdown examples:\n",
    "\n",
    "**bold**\n",
    "\n",
    "*italics*\n",
    "\n",
    "***bold italics***\n",
    "\n",
    "~~strikethrough~~\n",
    "\n",
    "<u>underlined</u>\n",
    "\n",
    ">block\n",
    ">>nested block\n",
    ">>>more\n",
    "\n"
   ]
  },
  {
   "attachments": {},
   "cell_type": "markdown",
   "metadata": {},
   "source": [
    "lines (3 ways to draw):\n",
    "***\n",
    "---\n",
    "___\n",
    "\n"
   ]
  },
  {
   "attachments": {},
   "cell_type": "markdown",
   "metadata": {},
   "source": [
    "numeration:\n",
    "1. First\n",
    "2. Second\n",
    "3. Third\n"
   ]
  },
  {
   "attachments": {},
   "cell_type": "markdown",
   "metadata": {},
   "source": [
    "bullets:\n",
    "- 1st\n",
    "  - nested\n",
    "- 2nd\n",
    "\n",
    "bullets (2nd way to draw):\n",
    "* 1st\n",
    "* 2nd"
   ]
  },
  {
   "attachments": {},
   "cell_type": "markdown",
   "metadata": {},
   "source": [
    "## pictures\n",
    "need to drag-n-drop here\n",
    "\n",
    "but how ???\n",
    "\n",
    "or use code before link:\n",
    "\n",
    "![desctiption](https://www.python.org/static/img/python-logo@2x.png)"
   ]
  },
  {
   "attachments": {},
   "cell_type": "markdown",
   "metadata": {},
   "source": [
    "## links\n",
    "\n",
    "[click me](https://en.wikipedia.org \"Wikipedia\")\n",
    "\n",
    "https://en.wikipedia.org\n",
    "\n",
    "> 2 spaces after link needed or links will be concatenated (!):\n",
    "https://en.wikipedia.org  \n",
    "https://en.wikipedia.org  \n",
    "https://en.wikipedia.org  \n",
    "https://en.wikipedia.org  \n"
   ]
  },
  {
   "attachments": {},
   "cell_type": "markdown",
   "metadata": {},
   "source": [
    "## check-lists\n",
    "- [x] done  \n",
    "- [ ] not yet  \n",
    "\n",
    "(but it doesn't work)"
   ]
  },
  {
   "attachments": {},
   "cell_type": "markdown",
   "metadata": {},
   "source": [
    "## to mark as code use 3 ` signs (inclined symbol!)\n",
    "```python\n",
    "\n",
    "s = \"Python syntax highlighting\"\n",
    "print s\n",
    "\n",
    "```"
   ]
  },
  {
   "attachments": {},
   "cell_type": "markdown",
   "metadata": {},
   "source": [
    "## Nice tables\n",
    "|Column 1|Column 2|\n",
    "|-|-|\n",
    "|value 1|number|\n",
    "|-5|5|"
   ]
  },
  {
   "attachments": {},
   "cell_type": "markdown",
   "metadata": {},
   "source": [
    "This string is <mark>highlighted</mark> by color.\n"
   ]
  },
  {
   "attachments": {},
   "cell_type": "markdown",
   "metadata": {},
   "source": [
    "## Formulas (LateX formatting)\n",
    "\n",
    "$\\sqrt{k}$\n",
    "\n",
    "$x^2+y^2=1$\n",
    "\n",
    "$({\\frac{1}{6}})^3 = \\frac{1}{216}$\n",
    "\n",
    "$P_2 = 100\\% - P_1 - P_3$\n",
    "\n",
    "\n",
    "regular parenthesis: $F = G ( \\frac{m_1 m_2}{r^2} )$  \n",
    "tall parenthesis: $F = G \\left( \\frac{m_1 m_2}{r^2} \\right)$  "
   ]
  },
  {
   "attachments": {},
   "cell_type": "markdown",
   "metadata": {},
   "source": [
    "## Run system command in notebook:"
   ]
  },
  {
   "cell_type": "code",
   "execution_count": 1,
   "metadata": {},
   "outputs": [
    {
     "name": "stdout",
     "output_type": "stream",
     "text": [
      "Active code page: 65001\n",
      "\n",
      "Pinging google.com [74.125.131.138] with 32 bytes of data:\n",
      "Reply from 74.125.131.138: bytes=32 time=51ms TTL=107\n",
      "Reply from 74.125.131.138: bytes=32 time=51ms TTL=107\n",
      "Reply from 74.125.131.138: bytes=32 time=51ms TTL=107\n",
      "Reply from 74.125.131.138: bytes=32 time=52ms TTL=107\n",
      "\n",
      "Ping statistics for 74.125.131.138:\n",
      "    Packets: Sent = 4, Received = 4, Lost = 0 (0% loss),\n",
      "Approximate round trip times in milli-seconds:\n",
      "    Minimum = 51ms, Maximum = 52ms, Average = 51ms\n"
     ]
    }
   ],
   "source": [
    "! chcp 65001\n",
    "! ping google.com"
   ]
  },
  {
   "attachments": {},
   "cell_type": "markdown",
   "metadata": {},
   "source": [
    ">!This is hidden until your cursor hovers on top of it"
   ]
  },
  {
   "attachments": {},
   "cell_type": "markdown",
   "metadata": {},
   "source": [
    "# Spoiler:\n",
    "<details>\n",
    "<summary>Example</summary>\n",
    "\n",
    "```\n",
    "long console output here\n",
    "```\n",
    "</details>"
   ]
  },
  {
   "attachments": {},
   "cell_type": "markdown",
   "metadata": {},
   "source": [
    "# Draw Keyboard keys:\n",
    "<kbd>CTRL</kbd> + <kbd>P</kbd>"
   ]
  },
  {
   "attachments": {},
   "cell_type": "markdown",
   "metadata": {},
   "source": [
    "## Hidden comments inside markdown (click me)\n",
    "\n",
    "[//]: # (Hidden comment)"
   ]
  }
 ],
 "metadata": {
  "interpreter": {
   "hash": "6600103165174a1b04ab5033ed198f4b80bb8b687746f9c96bd3650d17a7dbfd"
  },
  "kernelspec": {
   "display_name": "Python 3.9.12 64-bit",
   "language": "python",
   "name": "python3"
  },
  "language_info": {
   "codemirror_mode": {
    "name": "ipython",
    "version": 3
   },
   "file_extension": ".py",
   "mimetype": "text/x-python",
   "name": "python",
   "nbconvert_exporter": "python",
   "pygments_lexer": "ipython3",
   "version": "3.10.1"
  },
  "orig_nbformat": 4
 },
 "nbformat": 4,
 "nbformat_minor": 2
}
