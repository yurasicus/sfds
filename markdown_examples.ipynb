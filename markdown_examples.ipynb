{
 "cells": [
  {
   "cell_type": "markdown",
   "metadata": {},
   "source": [
    "# Немного markdown:\n",
    "\n",
    "**жирный текст**\n",
    "\n",
    "*курсивный текст*\n",
    "\n",
    "***жирный курсив***\n",
    "\n",
    "~~зачеркнутый текст~~\n",
    "\n",
    ">блок текста\n",
    ">>вложенный блок\n",
    ">>>еще\n",
    "\n"
   ]
  },
  {
   "cell_type": "markdown",
   "metadata": {},
   "source": [
    "линии (три способа, все одинаковые):\n",
    "***\n",
    "---\n",
    "___\n",
    "\n"
   ]
  },
  {
   "cell_type": "markdown",
   "metadata": {},
   "source": [
    "нумерация:\n",
    "1. Первый\n",
    "2. Второй\n",
    "3. Третий\n"
   ]
  },
  {
   "cell_type": "markdown",
   "metadata": {},
   "source": [
    "буллеты:\n",
    "- первый\n",
    "- второй\n",
    "\n",
    "или так:\n",
    "* 1st\n",
    "* 2nd"
   ]
  },
  {
   "cell_type": "markdown",
   "metadata": {},
   "source": [
    "## картинки\n",
    "можно вставлять перетаскиванием\n",
    "\n",
    "как ???\n",
    "\n",
    "или кодом перед ссылкой\n",
    "\n",
    "![](https://www.python.org/static/img/python-logo@2x.png)"
   ]
  },
  {
   "cell_type": "markdown",
   "metadata": {},
   "source": [
    "## ссылки\n",
    "\n",
    "[click me](https://en.wikipedia.org \"Wikipedia\")\n",
    "\n",
    "https://en.wikipedia.org\n",
    "\n",
    "> чтобы много ссылок не склеивались, нужно поставить 2 пробела в конце каждой строки:  \n",
    "https://en.wikipedia.org  \n",
    "https://en.wikipedia.org  \n",
    "https://en.wikipedia.org  \n",
    "https://en.wikipedia.org  \n"
   ]
  },
  {
   "cell_type": "markdown",
   "metadata": {},
   "source": [
    "## чек-листы\n",
    "- [x] выполнено\n",
    "- [ ] не выполнено\n",
    "\n",
    "(почему-то не работает)"
   ]
  },
  {
   "cell_type": "markdown",
   "metadata": {},
   "source": [
    "## код в разметке (наклонный апостроф!)\n",
    "```python\n",
    "\n",
    "s = \"Python syntax highlighting\"\n",
    "print s\n",
    "\n",
    "```"
   ]
  },
  {
   "cell_type": "markdown",
   "metadata": {},
   "source": [
    "## Красивые таблички\n",
    "|Столбец 1|Столбец 2|\n",
    "|-|-|\n",
    "|значение поля 1|число в строке|\n",
    "|-5|5|"
   ]
  },
  {
   "cell_type": "markdown",
   "metadata": {},
   "source": [
    "Этот кусок строки <mark>подсвечен</mark> цветом.\n"
   ]
  },
  {
   "cell_type": "markdown",
   "metadata": {},
   "source": [
    "## Формулы (LateX formatting)\n",
    "\n",
    "$\\sqrt{k}$"
   ]
  }
 ],
 "metadata": {
  "language_info": {
   "name": "python"
  },
  "orig_nbformat": 4
 },
 "nbformat": 4,
 "nbformat_minor": 2
}
